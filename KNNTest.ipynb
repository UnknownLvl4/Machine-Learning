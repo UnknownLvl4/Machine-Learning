{
 "cells": [
  {
   "cell_type": "code",
   "execution_count": 6,
   "id": "ebe02d8e-8522-4d04-9a4d-bdffb38758ed",
   "metadata": {},
   "outputs": [],
   "source": [
    "import numpy as np"
   ]
  },
  {
   "cell_type": "code",
   "execution_count": 7,
   "id": "f7e2b04e-1f3d-44a6-a7fd-8308fd1c9e0f",
   "metadata": {},
   "outputs": [],
   "source": [
    "X_train = np.array([[1, 2], [3, 4], [5, 6], [7, 8]]) # Dữ liệu huấn luyện\n",
    "y_train = np.array([0, 0, 1, 1]) # Nhãn tương ứng\n",
    "X_new = np.array([4, 5]) # Điểm cần phân loại\n",
    "k = 3 # Chọn số láng giềng"
   ]
  },
  {
   "cell_type": "code",
   "execution_count": 8,
   "id": "3e962dca-e171-461e-b7bf-9737c4acca4e",
   "metadata": {},
   "outputs": [],
   "source": [
    "distances = np.sqrt(np.sum((X_train - X_new)**2, axis=1))"
   ]
  },
  {
   "cell_type": "code",
   "execution_count": 9,
   "id": "c2dbfaef-f89f-4f77-beeb-115063678f98",
   "metadata": {},
   "outputs": [],
   "source": [
    "nearest_indices = np.argsort(distances)[:k] # Lấy chỉ số của k phần tửnhỏ nhất\n",
    "nearest_labels = y_train[nearest_indices] # Lấy nhãn của k láng giềng"
   ]
  },
  {
   "cell_type": "code",
   "execution_count": 10,
   "id": "084445f6-2b47-4249-a758-c1dfae4ae088",
   "metadata": {},
   "outputs": [
    {
     "name": "stdout",
     "output_type": "stream",
     "text": [
      "Nhãn dự đoán: 0\n"
     ]
    }
   ],
   "source": [
    "predicted_label = np.argmax(np.bincount(nearest_labels))\n",
    "print(\"Nhãn dự đoán:\", predicted_label)"
   ]
  }
 ],
 "metadata": {
  "kernelspec": {
   "display_name": "Python 3 (ipykernel)",
   "language": "python",
   "name": "python3"
  },
  "language_info": {
   "codemirror_mode": {
    "name": "ipython",
    "version": 3
   },
   "file_extension": ".py",
   "mimetype": "text/x-python",
   "name": "python",
   "nbconvert_exporter": "python",
   "pygments_lexer": "ipython3",
   "version": "3.12.9"
  }
 },
 "nbformat": 4,
 "nbformat_minor": 5
}
