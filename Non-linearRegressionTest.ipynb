{
 "cells": [
  {
   "cell_type": "markdown",
   "id": "c0c4ecb1-92eb-4a2f-81f2-e684ea31f8c5",
   "metadata": {},
   "source": [
    "# Ví dụ hồi quy phi tuyến đơn giản với Python"
   ]
  },
  {
   "cell_type": "code",
   "execution_count": 1,
   "id": "d9b7ab67-7e84-48f9-8cef-4743f3469e22",
   "metadata": {},
   "outputs": [],
   "source": [
    "import numpy as np\n",
    "import matplotlib.pyplot as plt\n",
    "from scipy.optimize import curve_fit"
   ]
  },
  {
   "cell_type": "code",
   "execution_count": 2,
   "id": "e5a73faf-b70c-4dca-a386-cb32cd06d517",
   "metadata": {},
   "outputs": [],
   "source": [
    "# Tạo dữ liệu mẫu\n",
    "def true_function(x, a, b, c):\n",
    "    return a * np.exp(-b * x) + c"
   ]
  },
  {
   "cell_type": "code",
   "execution_count": 3,
   "id": "b9c1dd9e-1e28-4ba4-bd34-8497ee6f2c70",
   "metadata": {},
   "outputs": [],
   "source": [
    "# Tạo dữ liệu mẫu với nhiễu\n",
    "np.random.seed(42)\n",
    "x_data = np.linspace(0, 5, 50)\n",
    "y_true = true_function(x_data, 2.5, 1.3, 0.5)\n",
    "noise = 0.2 * np.random.normal(size=len(x_data))\n",
    "y_data = y_true + noise"
   ]
  },
  {
   "cell_type": "code",
   "execution_count": 4,
   "id": "d1fb3cf4-1f5b-4d87-a88d-794b12655933",
   "metadata": {},
   "outputs": [],
   "source": [
    "# Định nghĩa hàm mô hình\n",
    "def model_func(x, a, b, c):\n",
    "    return a * np.exp(-b * x) + c"
   ]
  },
  {
   "cell_type": "code",
   "execution_count": 5,
   "id": "62dd31e4-f758-4a8d-94bf-3847d715968c",
   "metadata": {},
   "outputs": [],
   "source": [
    "# Sử dụng curve_fit để ước lượng tham số\n",
    "params, params_covariance = curve_fit(model_func, x_data, y_data, p0=[2, 1, 0])"
   ]
  },
  {
   "cell_type": "markdown",
   "id": "f442c691-581e-47f1-8a14-9e58effc7d9d",
   "metadata": {},
   "source": [
    "# Ví dụ phức tạp hơn với sklearn"
   ]
  },
  {
   "cell_type": "code",
   "execution_count": 8,
   "id": "3780d4d9-c964-47cf-87cf-a762d68f1e45",
   "metadata": {},
   "outputs": [],
   "source": [
    "import numpy as np\n",
    "import matplotlib.pyplot as plt\n",
    "from sklearn.preprocessing import PolynomialFeatures\n",
    "from sklearn.pipeline import make_pipeline\n",
    "from sklearn.linear_model import Ridge\n",
    "from sklearn.metrics import mean_squared_error, r2_score"
   ]
  },
  {
   "cell_type": "code",
   "execution_count": 9,
   "id": "6cb9eaf2-fad7-4e0a-bcf5-ce63af63b941",
   "metadata": {},
   "outputs": [],
   "source": [
    "# Tạo dữ liệu mẫu\n",
    "np.random.seed(42)\n",
    "x = np.sort(np.random.uniform(0, 1, 100)).reshape(-1, 1)\n",
    "y = np.sin(2 * np.pi * x).ravel() + 0.1 * np.random.randn(100)"
   ]
  },
  {
   "cell_type": "code",
   "execution_count": 10,
   "id": "48457c75-8e15-4950-a1e9-99cb3e08fe46",
   "metadata": {},
   "outputs": [],
   "source": [
    "# Chia dữ liệu thành tập huấn luyện và kiểm tra\n",
    "x_train, x_test = x[:80], x[80:]\n",
    "y_train, y_test = y[:80], y[80:]"
   ]
  },
  {
   "cell_type": "code",
   "execution_count": 11,
   "id": "8f9578f8-9be4-4bd7-8e0c-00f7ed2d6b3b",
   "metadata": {},
   "outputs": [],
   "source": [
    "# Thử nghiệm các bậc khác nhau của đa thức\n",
    "degrees = [1, 3, 5, 9]"
   ]
  }
 ],
 "metadata": {
  "kernelspec": {
   "display_name": "Python 3 (ipykernel)",
   "language": "python",
   "name": "python3"
  },
  "language_info": {
   "codemirror_mode": {
    "name": "ipython",
    "version": 3
   },
   "file_extension": ".py",
   "mimetype": "text/x-python",
   "name": "python",
   "nbconvert_exporter": "python",
   "pygments_lexer": "ipython3",
   "version": "3.12.9"
  }
 },
 "nbformat": 4,
 "nbformat_minor": 5
}
